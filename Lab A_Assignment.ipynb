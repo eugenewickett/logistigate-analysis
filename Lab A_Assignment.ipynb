{
 "cells": [
  {
   "cell_type": "markdown",
   "id": "5d114b13-2fff-4737-b022-e402c199a941",
   "metadata": {},
   "source": [
    "# Lab A: Combinatorics Assignment"
   ]
  },
  {
   "cell_type": "markdown",
   "id": "9b21b6ae-f3b1-4f22-808a-6dddedbc7470",
   "metadata": {},
   "source": [
    "The following questions pertain to a trial for Taylor, a human, who is under arrest in Ape City, the capital of a society comprised equally of gorillas, orangutans, and chimpanzees. A jury for any trial is comprised of 9 simians, and any member of a population has an equal chance of being selected to serve on a jury. (<a href=\"https://www.youtube.com/watch?v=6hX68X66jyw\" target=\"_blank\" rel=\"noopener\">Optional motivation here.</a>)"
   ]
  },
  {
   "cell_type": "markdown",
   "id": "54cb0477-74f9-4de1-b2d6-d3ce29f15263",
   "metadata": {},
   "source": [
    "## Some functions you might use"
   ]
  },
  {
   "cell_type": "code",
   "execution_count": 2,
   "id": "19b122e2-f64c-4668-8901-e7995160ab3b",
   "metadata": {},
   "outputs": [],
   "source": [
    "def myfactorial(n):\n",
    "    \"\"\"\n",
    "    Returns the factorial of n\n",
    "    \"\"\"\n",
    "    retvalue = 1 # Initialize a return value\n",
    "    for i in range(n):\n",
    "        retvalue *= (i+1) # Same as writing retvalue = retvalue*(i+1)\n",
    "    return retvalue\n",
    "\n",
    "def getPermOrComb(n, k, perm_or_comb='permutation'):\n",
    "    \"\"\"\n",
    "    Returns the number of permutations or combinations for k items of n total items\n",
    "    \"\"\"\n",
    "    if perm_or_comb == 'permutation':\n",
    "        retvalue = int(myfactorial(n) / myfactorial(n-k)) # Python treats division outputs as decimal numbers; int() changes it back to an integer value \n",
    "    elif perm_or_comb == \"combination\": \n",
    "        retvalue = int(myfactorial(n) / (myfactorial(n-k) * myfactorial(k)))\n",
    "    return retvalue"
   ]
  },
  {
   "cell_type": "markdown",
   "id": "7195aed7-7316-41ca-9e77-1d888b25e192",
   "metadata": {},
   "source": [
    "## Compute answers to the following questions"
   ]
  },
  {
   "cell_type": "markdown",
   "id": "cf9fec64-40ea-4c8b-9aaa-b4df666483af",
   "metadata": {},
   "source": [
    "### Question 1"
   ]
  },
  {
   "cell_type": "markdown",
   "id": "5c65ed86-2b50-49e3-83ff-6aae0a5dcad0",
   "metadata": {},
   "source": [
    "How many ways are there to select a jury from a pool of 99 potential jurors?"
   ]
  },
  {
   "cell_type": "code",
   "execution_count": null,
   "id": "6dbc7853-b80f-4b45-bee8-e64615652c11",
   "metadata": {},
   "outputs": [],
   "source": []
  },
  {
   "cell_type": "markdown",
   "id": "eb99d08e-ff97-4ecd-a982-7dbaa479e1cf",
   "metadata": {
    "tags": []
   },
   "source": [
    "### Question 2"
   ]
  },
  {
   "cell_type": "markdown",
   "id": "bdbbc8db-4f60-4420-ba1a-cb4ec508912f",
   "metadata": {},
   "source": [
    "How many ways are there to select a jury with 3 of each simian type from a pool of 99 potential jurors with 30 gorillas, 39 orangutans, and 30 chimpanzees?"
   ]
  },
  {
   "cell_type": "code",
   "execution_count": null,
   "id": "d14bcd91-3003-4381-aeed-a44b76bfa386",
   "metadata": {},
   "outputs": [],
   "source": []
  },
  {
   "cell_type": "markdown",
   "id": "6a688242-d3ea-407e-aa4d-67ee6635051d",
   "metadata": {
    "tags": []
   },
   "source": [
    "### Question 3"
   ]
  },
  {
   "cell_type": "markdown",
   "id": "030ff2d4-12a1-40c8-a4fc-ef1a7c2057a9",
   "metadata": {},
   "source": [
    "What is the *exact* probability that a randomly selected trial jury has an equal simian distribution?"
   ]
  },
  {
   "cell_type": "code",
   "execution_count": null,
   "id": "02d9ff74-06a5-4d3f-9f09-599d2157b95f",
   "metadata": {},
   "outputs": [],
   "source": []
  },
  {
   "cell_type": "markdown",
   "id": "9f81750b-07df-496a-8b09-0b386d10433c",
   "metadata": {
    "tags": []
   },
   "source": [
    "### Question 4"
   ]
  },
  {
   "cell_type": "markdown",
   "id": "73b18599-8c4c-461f-87ae-bb876cedc9b3",
   "metadata": {},
   "source": [
    "What is a *simulated* probability estimate that a randomly selected trial jury has an equal simian distribution?"
   ]
  },
  {
   "cell_type": "code",
   "execution_count": null,
   "id": "968057dd-5111-40bf-827a-589b12513812",
   "metadata": {},
   "outputs": [],
   "source": []
  },
  {
   "cell_type": "markdown",
   "id": "9a276e04-9c3d-4e6d-9698-b190ba7efbe7",
   "metadata": {
    "tags": []
   },
   "source": [
    "### Question 5"
   ]
  },
  {
   "cell_type": "markdown",
   "id": "d7d9e2b1-e4ce-4a76-86b4-95c658d8d157",
   "metadata": {},
   "source": [
    "Is random selection a good method of selecting juries? Why or why not? How would you modify the selection process?"
   ]
  },
  {
   "cell_type": "markdown",
   "id": "573ab1a8-d161-4aec-a8dc-208b03259214",
   "metadata": {},
   "source": []
  }
 ],
 "metadata": {
  "kernelspec": {
   "display_name": "Python 3 (ipykernel)",
   "language": "python",
   "name": "python3"
  },
  "language_info": {
   "codemirror_mode": {
    "name": "ipython",
    "version": 3
   },
   "file_extension": ".py",
   "mimetype": "text/x-python",
   "name": "python",
   "nbconvert_exporter": "python",
   "pygments_lexer": "ipython3",
   "version": "3.10.12"
  }
 },
 "nbformat": 4,
 "nbformat_minor": 5
}
